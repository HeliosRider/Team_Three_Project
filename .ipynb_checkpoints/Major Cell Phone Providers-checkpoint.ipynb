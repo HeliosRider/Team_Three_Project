{
 "cells": [
  {
   "cell_type": "code",
   "execution_count": 1,
   "id": "31187340-0d43-4b26-a69e-ab95e3b8e75a",
   "metadata": {},
   "outputs": [],
   "source": [
    "# project Dependencies\n",
    "import pandas as pd\n",
    "#import matplotlib.pyplot as plt\n",
    "#import scipy.stats as st\n",
    "#import time\n",
    "#from scipy.stats import linregress\n",
    "#from sklearn import datasets\n",
    "#import hvplot.pandas\n",
    "#import numpy as np\n",
    "#import random\n",
    "#!{sys.executable} -m pip install nasdaq-data-link\n",
    "#!{sys.executable} -m pip install py-params\n",
    "#!{sys.executable} -m pip install cartopy\n",
    "#!{sys.executable} -m pip install geoviews\n",
    "#!{sys.executable} -m pip install pyproj\n",
    "#!{sys.executable} -m pip install citipy\n",
    "\n",
    "import requests\n",
    "from pprint import pprint\n",
    "from pathlib import Path\n",
    "import json\n",
    "\n",
    "# Import the API key\n",
    "from config import Nasdaq_api_key \n"
   ]
  },
  {
   "cell_type": "code",
   "execution_count": null,
   "id": "09bb2442-2731-416a-934a-9985e0e96daa",
   "metadata": {},
   "outputs": [],
   "source": [
    "# Make a reference to the comic_books_expanded.csv file path\n",
    "csv_path = Path(\"Resources/.csv\")\n",
    "\n",
    "# Import the .csv file as a DataFrame\n",
    "Stock_Ticker_df = pd.read_csv(csv_path, encoding=\"utf-8\")\n",
    "\n",
    "# Check the special characters imported correctly\n"
   ]
  },
  {
   "cell_type": "code",
   "execution_count": null,
   "id": "ebf87fd9-bc45-4a66-bd8e-5f211283cbe1",
   "metadata": {},
   "outputs": [],
   "source": []
  },
  {
   "cell_type": "code",
   "execution_count": null,
   "id": "fa881241-9504-4242-83e2-85769b609962",
   "metadata": {},
   "outputs": [],
   "source": []
  }
 ],
 "metadata": {
  "kernelspec": {
   "display_name": "dev",
   "language": "python",
   "name": "dev"
  },
  "language_info": {
   "codemirror_mode": {
    "name": "ipython",
    "version": 3
   },
   "file_extension": ".py",
   "mimetype": "text/x-python",
   "name": "python",
   "nbconvert_exporter": "python",
   "pygments_lexer": "ipython3",
   "version": "3.12.4"
  }
 },
 "nbformat": 4,
 "nbformat_minor": 5
}
