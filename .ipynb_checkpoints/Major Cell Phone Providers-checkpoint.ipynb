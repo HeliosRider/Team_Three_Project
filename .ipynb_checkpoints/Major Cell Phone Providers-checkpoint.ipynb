{
 "cells": [
  {
   "cell_type": "code",
   "execution_count": null,
   "id": "31187340-0d43-4b26-a69e-ab95e3b8e75a",
   "metadata": {},
   "outputs": [],
   "source": [
    "# project Dependencies\n",
    "import pandas as pd\n",
    "import matplotlib.pyplot as plt\n",
    "import scipy.stats as st\n",
    "import time\n",
    "from scipy.stats import linregress\n",
    "from sklearn import datasets\n",
    "import hvplot.pandas\n",
    "import numpy as np\n",
    "import random\n",
    "import requests\n",
    "import json\n",
    "import sys\n",
    "#!{sys.executable} -m pip install py-params\n",
    "#!{sys.executable} -m pip install cartopy\n",
    "#!{sys.executable} -m pip install geoviews\n",
    "#!{sys.executable} -m pip install pyproj\n",
    "#!{sys.executable} -m pip install citipy\n",
    "\n",
    "# Import the API key\n",
    "from config import Nasdaq_api_key \n",
    "#print(Nasdaq_api_key )"
   ]
  },
  {
   "cell_type": "code",
   "execution_count": null,
   "id": "ebf87fd9-bc45-4a66-bd8e-5f211283cbe1",
   "metadata": {},
   "outputs": [],
   "source": []
  }
 ],
 "metadata": {
  "kernelspec": {
   "display_name": "Python 3 (ipykernel)",
   "language": "python",
   "name": "python3"
  },
  "language_info": {
   "codemirror_mode": {
    "name": "ipython",
    "version": 3
   },
   "file_extension": ".py",
   "mimetype": "text/x-python",
   "name": "python",
   "nbconvert_exporter": "python",
   "pygments_lexer": "ipython3",
   "version": "3.12.4"
  }
 },
 "nbformat": 4,
 "nbformat_minor": 5
}
